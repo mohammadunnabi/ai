{
 "cells": [
  {
   "cell_type": "markdown",
   "metadata": {},
   "source": [
    "# Single Layer Neural Network"
   ]
  },
  {
   "cell_type": "markdown",
   "metadata": {},
   "source": [
    "## Steps:\n",
    " - Define Structure\n",
    " - initialize parameters\n",
    " - Forward Propagation\n",
    "   $$Z^{[1]} =  W^{[1]} X + b^{[1]} $$ \n",
    "   $$A^{[1]} = \\tanh(Z^{[1]}) $$\n",
    "   $$Z^{[2]} = W^{[2]} A^{[1]} + b^{[2]} $$\n",
    "   $$\\hat{Y} = A^{[2]} = \\sigma(Z^{[2]}) $$\n",
    "\n",
    "\n",
    " - compute cost\n",
    "    - $$J = - \\frac{1}{m} \\sum\\limits_{i = 1}^{m} \\large{(} \\small y^{(i)}\\log\\left(\\hat{y}^{[2] (i)}\\right) + (1-y^{(i)})\\log\\left(1- \\hat{y}^{[2] (i)}\\right) \\large{)} \\small $$\n",
    " - Backward Propagation\n",
    "  ---------------------------------------------------------------------\n",
    "  $$dZ^{[2]} =  A^{[2]} - Y  $$ \n",
    "  $$dW^{[2]} = \\frac {1} {m} dZ^{[2]} A^{[1]T}  $$\n",
    "  $$db^{[2]} = \\frac {1} {m} \\sum\\limits_{i = 1}^{m} dZ^{[2]}  $$\n",
    "  ---------------------------------------------------------------------\n",
    "  $$dW^{[2]} = \\frac {1} {m} dZ^{[2]} A^{[1]T}  $$\n",
    "  $$dZ^{[2]} = W^{[2]} A^{[1]} + b^{[2]} $$\n",
    "  $$\\hat{Y} = A^{[2]} = \\sigma(Z^{[2]}) $$\n",
    " - update weights"
   ]
  },
  {
   "cell_type": "code",
   "execution_count": null,
   "metadata": {},
   "outputs": [],
   "source": [
    "import tensorflow as tf"
   ]
  },
  {
   "cell_type": "markdown",
   "metadata": {},
   "source": [
    "## Defining Structure and initializing parameters"
   ]
  },
  {
   "cell_type": "code",
   "execution_count": null,
   "metadata": {},
   "outputs": [],
   "source": [
    "def initializer(input_dim:int, hidden:int, output_dim:int):\n",
    "    W1 = tf.random.normal([hidden, input_dim], dtype=tf.float64)\n",
    "    b1 = tf.zeros([hidden, 1], dtype=tf.float64)\n",
    "    W2 = tf.random.normal([output_dim, hidden], dtype=tf.float64)\n",
    "    b2 = tf.zeros([output_dim, 1], dtype=tf.float64)\n",
    "    return {\n",
    "        'W1':W1, \"b1\": b1, \"W2\": W2, \"b2\": b2\n",
    "    }"
   ]
  },
  {
   "cell_type": "code",
   "execution_count": null,
   "metadata": {},
   "outputs": [],
   "source": [
    "initializer(2, 4, 1)"
   ]
  },
  {
   "cell_type": "markdown",
   "metadata": {},
   "source": [
    "## forward propagation\n",
    "---------------------------------------\n",
    "   $$Z^{[1]} =  W^{[1]} X + b^{[1]} $$ \n",
    "   $$A^{[1]} = \\tanh(Z^{[1]}) $$\n",
    "   $$Z^{[2]} = W^{[2]} A^{[1]} + b^{[2]} $$\n",
    "   $$\\hat{Y} = A^{[2]} = \\sigma(Z^{[2]}) $$\n"
   ]
  },
  {
   "cell_type": "code",
   "execution_count": null,
   "metadata": {},
   "outputs": [],
   "source": [
    "def forward_prop(params: dict, X:tf.Tensor):\n",
    "    W1, b1, W2, b2 = params.values()\n",
    "    Z1 = tf.tensordot(W1, X, axes=1) + b1\n",
    "    A1 = tf.nn.tanh(Z1)\n",
    "    Z2 = tf.tensordot(W2, A1, axes=1) + b2\n",
    "    A2 = tf.nn.sigmoid(Z2)\n",
    "    state = {\n",
    "        \"Z1\":Z1, \"A1\":A1, \"Z2\":Z2, \"A2\":A2\n",
    "    }\n",
    "    return A2, state"
   ]
  },
  {
   "cell_type": "code",
   "execution_count": null,
   "metadata": {},
   "outputs": [],
   "source": [
    "X = tf.Variable(\n",
    "    [\n",
    "        [2, 3, 4, 5, 6],\n",
    "        [7, 2, 3, 4, 8],\n",
    "    ], dtype=tf.float64\n",
    ")\n",
    "Y = tf.Variable([[1, 1, 0, 0, 1]], dtype=tf.float64)"
   ]
  },
  {
   "cell_type": "code",
   "execution_count": null,
   "metadata": {},
   "outputs": [],
   "source": [
    "params = initializer(2, 4, 1)\n",
    "forward_prop(params, X)\n"
   ]
  },
  {
   "cell_type": "markdown",
   "metadata": {},
   "source": [
    "## Back Propagation"
   ]
  },
  {
   "cell_type": "code",
   "execution_count": null,
   "metadata": {},
   "outputs": [],
   "source": [
    "def back_prop(params: dict, state: dict, X: tf.Tensor, Y: tf.Tensor):\n",
    "    W1, b1, W2, b2 = params.values()\n",
    "    Z1, A1, Z2, A2 = state.values()\n",
    "    m = Y.shape[1]\n",
    "\n",
    "    dZ2 = A2 - Y\n",
    "    dW2 = (1/m) * tf.tensordot(dZ2, tf.transpose(A1), axes=1)\n",
    "    db2 = (1/m) * tf.reduce_sum(dZ2, axis=1, keepdims=True)\n",
    "    dZ1 = tf.tensordot(tf.transpose(W2), dZ2, axes=1) * (1 - tf.pow(A1, 2))\n",
    "    dW1 = (1/m) * tf.tensordot(dZ1, tf.transpose(X), axes=1)\n",
    "    db1 = (1/m) * tf.reduce_sum(dZ1, axis=1, keepdims=True)\n",
    "    grads = {\n",
    "        'dW1': dW1, 'db1': db1, 'dW2': dW2, 'db2': db2\n",
    "    }\n",
    "    return grads"
   ]
  },
  {
   "cell_type": "code",
   "execution_count": null,
   "metadata": {},
   "outputs": [],
   "source": [
    "params = initializer(2, 4, 1)\n",
    "A2, state = forward_prop(params, X)\n",
    "back_prop(params, state, X, Y)"
   ]
  },
  {
   "cell_type": "markdown",
   "metadata": {},
   "source": [
    "## Update Parameters:\n",
    "$$ w1 = w1 - {\\alpha} * \\frac{\\partial J}{\\partial w1} $$\n",
    "$$ b1 = b1- {\\alpha}  * \\frac{\\partial J}{\\partial b1} $$\n",
    "$$ w2 = w2 - {\\alpha} * \\frac{\\partial J}{\\partial w2} $$\n",
    "$$ b2 = b2- {\\alpha}  * \\frac{\\partial J}{\\partial b2} $$"
   ]
  },
  {
   "cell_type": "code",
   "execution_count": null,
   "metadata": {},
   "outputs": [],
   "source": [
    "def update(params: dict, grads: dict, alpha: float = 0.01):\n",
    "    W1, b1, W2, b2 = params.values()\n",
    "    dW1, db1, dW2, db2 = grads.values()\n",
    "    W1 = W1 - (alpha * dW1)\n",
    "    b1 = b1 - (alpha * db1)\n",
    "    W2 = W2 - (alpha * dW2)\n",
    "    b2 = b2 - (alpha * db2)\n",
    "    return dict(W1=W1, b1=b1, W2=W2, b2=b2)"
   ]
  },
  {
   "cell_type": "code",
   "execution_count": null,
   "metadata": {},
   "outputs": [],
   "source": [
    "params = initializer(2, 4, 1)\n",
    "A2, state = forward_prop(params, X)\n",
    "grads = back_prop(params, state, X, Y)\n",
    "update(params, grads)"
   ]
  },
  {
   "cell_type": "markdown",
   "metadata": {},
   "source": [
    "## Merging All"
   ]
  },
  {
   "cell_type": "code",
   "execution_count": null,
   "metadata": {},
   "outputs": [],
   "source": [
    "from sklearn.metrics import accuracy_score"
   ]
  },
  {
   "cell_type": "code",
   "execution_count": 97,
   "metadata": {},
   "outputs": [],
   "source": [
    "class ShallowNN:\n",
    "    \"\"\"\n",
    "    Parameters: input_dim : No of Fetures, hidden_dim : neuron in hidden layer, \n",
    "    output_dim: no of output neuron\n",
    "    \"\"\"\n",
    "\n",
    "    def __init__(self, input_dim: int, hidden: int, output_dim: int, alpha: float = 0.01):\n",
    "        self.params = self.initialize_params(input_dim, hidden, output_dim)\n",
    "        self.state = dict()\n",
    "        self.grads = dict()\n",
    "        self.cost = None\n",
    "        self.alpha = alpha\n",
    "        self.losses = []\n",
    "\n",
    "    def initialize_params(self, input_dim: int, hidden: int, output_dim: int):\n",
    "        W1 = tf.random.normal([hidden, input_dim], dtype=tf.float64)\n",
    "        b1 = tf.zeros([hidden, 1], dtype=tf.float64)\n",
    "        W2 = tf.random.normal([output_dim, hidden], dtype=tf.float64)\n",
    "        b2 = tf.zeros([output_dim, 1], dtype=tf.float64)\n",
    "        return {\n",
    "            'W1': W1, \"b1\": b1, \"W2\": W2, \"b2\": b2\n",
    "        }\n",
    "\n",
    "    def forward_prop(self,  X: tf.Tensor):\n",
    "        W1, b1, W2, b2 = self.params.values()\n",
    "        Z1 = tf.tensordot(W1, X, axes=1) + b1\n",
    "        A1 = tf.nn.tanh(Z1)\n",
    "        Z2 = tf.tensordot(W2, A1, axes=1) + b2\n",
    "        A2 = tf.nn.sigmoid(Z2)\n",
    "        state = {\n",
    "            \"Z1\": Z1, \"A1\": A1, \"Z2\": Z2, \"A2\": A2\n",
    "        }\n",
    "        return A2, state\n",
    "\n",
    "    def compute_cost(self, Y: tf.Tensor, Yhat: tf.Tensor):\n",
    "        m = Yhat.shape[1]\n",
    "        loss = tf.reduce_sum((Y * tf.math.log(Yhat)) +\n",
    "                             ((1-Y) * tf.math.log(1-Yhat)))\n",
    "        cost = (-1/m) * loss\n",
    "        return cost\n",
    "\n",
    "    def back_prop(self, X: tf.Tensor, Y: tf.Tensor):\n",
    "        W1, b1, W2, b2 = self.params.values()\n",
    "        Z1, A1, Z2, A2 = self.state.values()\n",
    "        m = Y.shape[1]\n",
    "\n",
    "        dZ2 = A2 - Y\n",
    "        dW2 = (1/m) * tf.tensordot(dZ2, tf.transpose(A1), axes=1)\n",
    "        db2 = (1/m) * tf.reduce_sum(dZ2, axis=1, keepdims=True)\n",
    "        dZ1 = tf.tensordot(tf.transpose(W2), dZ2, axes=1) * (1 - tf.pow(A1, 2))\n",
    "        dW1 = (1/m) * tf.tensordot(dZ1, tf.transpose(X), axes=1)\n",
    "        db1 = (1/m) * tf.reduce_sum(dZ1, axis=1, keepdims=True)\n",
    "        grads = {\n",
    "            'dW1': dW1, 'db1': db1, 'dW2': dW2, 'db2': db2\n",
    "        }\n",
    "        return grads\n",
    "\n",
    "    def state_update(self):\n",
    "        W1, b1, W2, b2 = self.params.values()\n",
    "        dW1, db1, dW2, db2 = self.grads.values()\n",
    "        W1 = W1 - (self.alpha * dW1)\n",
    "        b1 = b1 - (self.alpha * db1)\n",
    "        W2 = W2 - (self.alpha * dW2)\n",
    "        b2 = b2 - (self.alpha * db2)\n",
    "        return dict(W1=W1, b1=b1, W2=W2, b2=b2)\n",
    "\n",
    "    def optimize(self, X: tf.Tensor, Y: tf.Tensor, validation: tuple, epochs=100):\n",
    "        for epoch in range(epochs):\n",
    "            A2, self.state = self.forward_prop(X)\n",
    "            self.cost = self.compute_cost(Y, A2)\n",
    "            self.grads = self.back_prop(X, Y)\n",
    "            self.params = self.state_update()\n",
    "\n",
    "            # Model State\n",
    "            if epoch % 50 == 0:\n",
    "                self.losses.append(self.cost)\n",
    "                Xv, Yv = validation\n",
    "                train_acc = 100 - \\\n",
    "                    (tf.reduce_mean(tf.abs(tf.subtract(self.predict(X), Y)) * 100))\n",
    "                test_acc = 100 - \\\n",
    "                    (tf.reduce_mean(tf.abs(tf.subtract(self.predict(Xv), Yv)) * 100))\n",
    "                print(\n",
    "                    f\"Epoch: {epoch} || Cost: {self.cost:.4f} || Train Acc: {train_acc:.2f}% || Test Acc: {test_acc:.2f}%\")\n",
    "        return self.params, self.cost\n",
    "\n",
    "    def predict(self, X: tf.Tensor):\n",
    "        W1, b1, W2, b2 = self.params.values()\n",
    "        Z1 = tf.tensordot(W1, X, axes=1) + b1\n",
    "        A1 = tf.nn.tanh(Z1)\n",
    "        Z2 = tf.tensordot(W2, A1, axes=1) + b2\n",
    "        A2 = tf.nn.sigmoid(Z2)\n",
    "        return tf.round(A2)\n"
   ]
  },
  {
   "cell_type": "markdown",
   "metadata": {},
   "source": [
    "## Test MOdel"
   ]
  },
  {
   "cell_type": "code",
   "execution_count": 98,
   "metadata": {},
   "outputs": [],
   "source": [
    "from sklearn.datasets import load_breast_cancer\n",
    "from sklearn.preprocessing import StandardScaler\n",
    "from sklearn.model_selection import train_test_split\n",
    "X, Y = load_breast_cancer(return_X_y=True)\n",
    "xtrain, xtest, ytrain, ytest = train_test_split(X, Y)"
   ]
  },
  {
   "cell_type": "code",
   "execution_count": 99,
   "metadata": {},
   "outputs": [
    {
     "data": {
      "text/plain": [
       "TensorShape([30, 426])"
      ]
     },
     "execution_count": 99,
     "metadata": {},
     "output_type": "execute_result"
    }
   ],
   "source": [
    "xtrain = StandardScaler().fit_transform(xtrain)\n",
    "xtrain = tf.Variable(xtrain, dtype=tf.float64)\n",
    "ytrain = tf.Variable([ytrain], dtype=tf.float64)\n",
    "xtrain = tf.transpose(xtrain)\n",
    "xtrain.shape\n"
   ]
  },
  {
   "cell_type": "code",
   "execution_count": 100,
   "metadata": {},
   "outputs": [
    {
     "data": {
      "text/plain": [
       "TensorShape([30, 143])"
      ]
     },
     "execution_count": 100,
     "metadata": {},
     "output_type": "execute_result"
    }
   ],
   "source": [
    "xtest = StandardScaler().fit_transform(xtest)\n",
    "xtest = tf.Variable(xtest, dtype=tf.float64)\n",
    "ytest = tf.Variable([ytest], dtype=tf.float64)\n",
    "xtest = tf.transpose(xtest)\n",
    "xtest.shape"
   ]
  },
  {
   "cell_type": "code",
   "execution_count": 101,
   "metadata": {},
   "outputs": [
    {
     "name": "stdout",
     "output_type": "stream",
     "text": [
      "Epoch: 0 || Cost: 0.4065 || Train Acc: 83.33% || Test Acc: 83.22%\n",
      "Epoch: 50 || Cost: 0.2382 || Train Acc: 89.67% || Test Acc: 90.91%\n",
      "Epoch: 100 || Cost: 0.1788 || Train Acc: 92.96% || Test Acc: 93.71%\n",
      "Epoch: 150 || Cost: 0.1370 || Train Acc: 96.01% || Test Acc: 96.50%\n",
      "Epoch: 200 || Cost: 0.1158 || Train Acc: 95.77% || Test Acc: 96.50%\n",
      "Epoch: 250 || Cost: 0.1017 || Train Acc: 96.24% || Test Acc: 97.20%\n",
      "Epoch: 300 || Cost: 0.0897 || Train Acc: 96.95% || Test Acc: 97.90%\n",
      "Epoch: 350 || Cost: 0.0826 || Train Acc: 96.95% || Test Acc: 96.50%\n",
      "Epoch: 400 || Cost: 0.0773 || Train Acc: 97.18% || Test Acc: 96.50%\n",
      "Epoch: 450 || Cost: 0.0727 || Train Acc: 97.65% || Test Acc: 95.80%\n",
      "Epoch: 500 || Cost: 0.0687 || Train Acc: 97.65% || Test Acc: 96.50%\n",
      "Epoch: 550 || Cost: 0.0653 || Train Acc: 97.65% || Test Acc: 96.50%\n",
      "Epoch: 600 || Cost: 0.0623 || Train Acc: 97.89% || Test Acc: 96.50%\n",
      "Epoch: 650 || Cost: 0.0596 || Train Acc: 97.89% || Test Acc: 96.50%\n",
      "Epoch: 700 || Cost: 0.0572 || Train Acc: 98.36% || Test Acc: 97.20%\n",
      "Epoch: 750 || Cost: 0.0551 || Train Acc: 98.36% || Test Acc: 96.50%\n",
      "Epoch: 800 || Cost: 0.0531 || Train Acc: 98.36% || Test Acc: 96.50%\n",
      "Epoch: 850 || Cost: 0.0513 || Train Acc: 98.36% || Test Acc: 96.50%\n",
      "Epoch: 900 || Cost: 0.0497 || Train Acc: 98.36% || Test Acc: 96.50%\n",
      "Epoch: 950 || Cost: 0.0482 || Train Acc: 98.36% || Test Acc: 96.50%\n",
      "Epoch: 1000 || Cost: 0.0468 || Train Acc: 98.36% || Test Acc: 96.50%\n",
      "Epoch: 1050 || Cost: 0.0454 || Train Acc: 98.36% || Test Acc: 95.80%\n",
      "Epoch: 1100 || Cost: 0.0441 || Train Acc: 98.59% || Test Acc: 95.80%\n",
      "Epoch: 1150 || Cost: 0.0430 || Train Acc: 98.59% || Test Acc: 95.80%\n",
      "Epoch: 1200 || Cost: 0.0419 || Train Acc: 98.59% || Test Acc: 95.80%\n",
      "Epoch: 1250 || Cost: 0.0409 || Train Acc: 98.59% || Test Acc: 96.50%\n",
      "Epoch: 1300 || Cost: 0.0400 || Train Acc: 98.83% || Test Acc: 96.50%\n",
      "Epoch: 1350 || Cost: 0.0391 || Train Acc: 98.83% || Test Acc: 96.50%\n",
      "Epoch: 1400 || Cost: 0.0383 || Train Acc: 98.83% || Test Acc: 96.50%\n",
      "Epoch: 1450 || Cost: 0.0376 || Train Acc: 98.83% || Test Acc: 95.80%\n",
      "Epoch: 1500 || Cost: 0.0369 || Train Acc: 99.06% || Test Acc: 95.80%\n",
      "Epoch: 1550 || Cost: 0.0362 || Train Acc: 99.06% || Test Acc: 95.80%\n",
      "Epoch: 1600 || Cost: 0.0355 || Train Acc: 99.06% || Test Acc: 95.80%\n",
      "Epoch: 1650 || Cost: 0.0349 || Train Acc: 99.06% || Test Acc: 95.80%\n",
      "Epoch: 1700 || Cost: 0.0343 || Train Acc: 99.06% || Test Acc: 95.80%\n",
      "Epoch: 1750 || Cost: 0.0338 || Train Acc: 99.06% || Test Acc: 95.80%\n",
      "Epoch: 1800 || Cost: 0.0332 || Train Acc: 99.06% || Test Acc: 95.80%\n",
      "Epoch: 1850 || Cost: 0.0327 || Train Acc: 99.06% || Test Acc: 95.80%\n",
      "Epoch: 1900 || Cost: 0.0321 || Train Acc: 99.06% || Test Acc: 95.80%\n",
      "Epoch: 1950 || Cost: 0.0316 || Train Acc: 99.06% || Test Acc: 95.80%\n",
      "Epoch: 2000 || Cost: 0.0311 || Train Acc: 99.06% || Test Acc: 95.80%\n",
      "Epoch: 2050 || Cost: 0.0306 || Train Acc: 99.06% || Test Acc: 95.80%\n",
      "Epoch: 2100 || Cost: 0.0301 || Train Acc: 99.06% || Test Acc: 95.80%\n",
      "Epoch: 2150 || Cost: 0.0296 || Train Acc: 99.06% || Test Acc: 95.80%\n",
      "Epoch: 2200 || Cost: 0.0292 || Train Acc: 99.06% || Test Acc: 95.80%\n",
      "Epoch: 2250 || Cost: 0.0287 || Train Acc: 99.06% || Test Acc: 95.80%\n",
      "Epoch: 2300 || Cost: 0.0282 || Train Acc: 99.06% || Test Acc: 95.80%\n",
      "Epoch: 2350 || Cost: 0.0278 || Train Acc: 99.06% || Test Acc: 95.80%\n",
      "Epoch: 2400 || Cost: 0.0274 || Train Acc: 99.06% || Test Acc: 95.80%\n",
      "Epoch: 2450 || Cost: 0.0269 || Train Acc: 99.06% || Test Acc: 95.80%\n",
      "Epoch: 2500 || Cost: 0.0265 || Train Acc: 99.06% || Test Acc: 96.50%\n",
      "Epoch: 2550 || Cost: 0.0261 || Train Acc: 99.06% || Test Acc: 96.50%\n",
      "Epoch: 2600 || Cost: 0.0257 || Train Acc: 99.06% || Test Acc: 96.50%\n",
      "Epoch: 2650 || Cost: 0.0253 || Train Acc: 99.06% || Test Acc: 96.50%\n",
      "Epoch: 2700 || Cost: 0.0250 || Train Acc: 99.30% || Test Acc: 96.50%\n",
      "Epoch: 2750 || Cost: 0.0246 || Train Acc: 99.30% || Test Acc: 96.50%\n",
      "Epoch: 2800 || Cost: 0.0242 || Train Acc: 99.30% || Test Acc: 96.50%\n",
      "Epoch: 2850 || Cost: 0.0239 || Train Acc: 99.30% || Test Acc: 96.50%\n",
      "Epoch: 2900 || Cost: 0.0236 || Train Acc: 99.30% || Test Acc: 96.50%\n",
      "Epoch: 2950 || Cost: 0.0232 || Train Acc: 99.30% || Test Acc: 96.50%\n"
     ]
    },
    {
     "data": {
      "text/plain": [
       "({'W1': <tf.Tensor: shape=(5, 30), dtype=float64, numpy=\n",
       "  array([[ 1.22281605, -0.34709099,  0.0441851 , -0.73012135,  1.01101067,\n",
       "           0.66412706,  0.70735601,  0.97763945, -1.53248233, -0.8551321 ,\n",
       "           0.33233017, -0.13288302, -0.99870741,  1.10116511, -0.04393048,\n",
       "          -0.33373319, -0.38381137,  0.11495413,  1.03152692, -0.66610759,\n",
       "           0.90113618,  1.78071192,  2.38113511,  1.6934567 ,  0.89141004,\n",
       "          -1.64587208,  0.82596758, -0.36877805,  0.23068481,  1.29458874],\n",
       "         [-0.05821146, -0.96369363, -0.22641339, -2.32387569, -0.94257449,\n",
       "           0.85890723, -1.73520805,  0.26550869, -0.60778746,  0.24093254,\n",
       "           1.24984618, -0.03302411, -0.93069556, -0.20153626, -0.34123845,\n",
       "           0.44646674,  0.08378925, -0.92181268,  0.79395167, -0.7640713 ,\n",
       "          -1.24994477,  1.42744105, -0.85223774,  0.95741312,  0.96794923,\n",
       "          -0.50670594, -0.82058107, -1.0432927 , -0.27031727, -1.41389373],\n",
       "         [-1.01342593, -1.08366073, -1.27859193, -0.64165961, -0.76962682,\n",
       "           0.98574691, -0.32613046,  0.83310439,  0.19902623, -1.14240433,\n",
       "           0.74221228, -0.19725652,  0.06342621,  0.58249816, -1.79717187,\n",
       "           0.77642719,  1.94097726, -1.94360552, -2.31244325,  0.03524617,\n",
       "          -0.01089838,  1.13302124, -0.19997324,  2.04153206,  0.23720086,\n",
       "           0.58863547, -2.28368666,  0.87317701, -0.40778446, -0.7951016 ],\n",
       "         [-0.05726811, -1.3087194 ,  0.52342758, -0.0444024 ,  0.3117995 ,\n",
       "          -0.58383095, -0.58234578, -0.63380584, -0.34114799,  0.56083786,\n",
       "           0.12882588, -0.12385688, -1.54640654, -1.17943329,  0.06221419,\n",
       "           2.39622297, -0.50545726, -0.08259042,  0.78016562,  0.10314578,\n",
       "          -1.18463881, -0.07592753,  0.67319057, -0.4823402 , -0.1807949 ,\n",
       "          -0.3752805 , -0.86887932, -0.25132256, -1.27246888,  0.59173309],\n",
       "         [ 0.17022363,  0.6790588 , -0.07565234,  1.09184806, -0.36807285,\n",
       "           0.56989683, -2.92141376, -0.78726336, -0.07777001,  0.17193513,\n",
       "          -1.02396791, -1.17553271,  0.29208511,  1.18279056,  0.95627598,\n",
       "           0.27316939, -0.60452781,  0.72668284,  1.49617008, -0.08195278,\n",
       "          -0.18889556,  0.53764431,  0.7140023 , -1.08311864,  2.21130079,\n",
       "           0.64797663,  0.34310284,  1.14972358,  0.26146162,  1.04762226]])>,\n",
       "  'b1': <tf.Tensor: shape=(5, 1), dtype=float64, numpy=\n",
       "  array([[ 0.05041202],\n",
       "         [ 0.0326921 ],\n",
       "         [-0.04488976],\n",
       "         [ 0.14730472],\n",
       "         [ 0.06981968]])>,\n",
       "  'W2': <tf.Tensor: shape=(1, 5), dtype=float64, numpy=array([[-2.745095  ,  1.51927911, -0.88440902,  2.82054285, -0.71311148]])>,\n",
       "  'b2': <tf.Tensor: shape=(1, 1), dtype=float64, numpy=array([[-0.00163807]])>},\n",
       " <tf.Tensor: shape=(), dtype=float64, numpy=0.022918606495737945>)"
      ]
     },
     "execution_count": 101,
     "metadata": {},
     "output_type": "execute_result"
    }
   ],
   "source": [
    "nn2 = ShallowNN(30, 5, 1, alpha=0.09)\n",
    "nn2.optimize(xtrain, ytrain,validation=(xtest, ytest), epochs=3000)"
   ]
  },
  {
   "cell_type": "code",
   "execution_count": 105,
   "metadata": {},
   "outputs": [
    {
     "data": {
      "text/plain": [
       "Text(0, 0.5, 'Cost')"
      ]
     },
     "execution_count": 105,
     "metadata": {},
     "output_type": "execute_result"
    },
    {
     "data": {
      "image/png": "[encoded data removed]",
      "text/plain": [
       "<Figure size 432x288 with 1 Axes>"
      ]
     },
     "metadata": {
      "needs_background": "light"
     },
     "output_type": "display_data"
    }
   ],
   "source": [
    "import matplotlib.pyplot as plt\n",
    "plt.plot(nn2.losses)\n",
    "plt.xlabel(\"Epochs\")\n",
    "plt.ylabel(\"Cost\")"
   ]
  },
  {
   "cell_type": "code",
   "execution_count": 106,
   "metadata": {},
   "outputs": [],
   "source": [
    "## Plot Train adn Test Accuracies"
   ]
  },
  {
   "cell_type": "code",
   "execution_count": null,
   "metadata": {},
   "outputs": [],
   "source": []
  }
 ],
 "metadata": {
  "interpreter": {
   "hash": "2be5faf79681da6f2a61fdfdd5405d65d042280f7fba6178067603e3a2925119"
  },
  "kernelspec": {
   "display_name": "Python 3.10.1 64-bit",
   "language": "python",
   "name": "python3"
  },
  "language_info": {
   "codemirror_mode": {
    "name": "ipython",
    "version": 3
   },
   "file_extension": ".py",
   "mimetype": "text/x-python",
   "name": "python",
   "nbconvert_exporter": "python",
   "pygments_lexer": "ipython3",
   "version": "3.10.1"
  },
  "orig_nbformat": 4
 },
 "nbformat": 4,
 "nbformat_minor": 2
}
