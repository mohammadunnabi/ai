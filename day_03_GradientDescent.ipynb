{
 "cells": [
  {
   "cell_type": "markdown",
   "metadata": {},
   "source": [
    "**Mathematical expression of the algorithm**:\n",
    "\n",
    "For one example $x^{(i)}$:\n",
    "$$z^{(i)} = w^T x^{(i)} + b \\tag{1}$$\n",
    "$$\\hat{y}^{(i)} = a^{(i)} = sigmoid(z^{(i)})\\tag{2}$$ \n",
    "$$ \\mathcal{L}(yhat^{(i)}, y^{(i)}) =  - y^{(i)}  \\log(yhat^{(i)}) + (1-y^{(i)} )  \\log(1-yhat^{(i)})\\tag{3}$$\n",
    "\n",
    "The cost is then computing:\n",
    "$$ J = \\frac{1}{m} \\sum_{i=1}^m \\mathcal{L}(yhat^{(i)}, y^{(i)})\\tag{6}$$\n",
    "\n",
    "Gradient Computing:\n",
    "- $$ \\frac{\\partial J}{\\partial w} = \\frac{1}{m}X(yhat-Y)^T\\tag{7}$$\n",
    "- $$ \\frac{\\partial J}{\\partial b} = \\frac{1}{m} \\sum_{i=1}^m (yhat^{(i)}-y^{(i)})\\tag{8}$$\n"
   ]
  },
  {
   "cell_type": "code",
   "execution_count": 82,
   "metadata": {},
   "outputs": [],
   "source": [
    "import numpy as np\n",
    "import tensorflow as tf"
   ]
  },
  {
   "cell_type": "markdown",
   "metadata": {},
   "source": [
    "## Weight and bias initializer"
   ]
  },
  {
   "cell_type": "code",
   "execution_count": 83,
   "metadata": {},
   "outputs": [],
   "source": [
    "def initializer(input_dim: int) -> tuple:\n",
    "    w = tf.zeros([input_dim, 1], dtype=tf.float64)\n",
    "    b = 0.0\n",
    "    return w, b"
   ]
  },
  {
   "cell_type": "code",
   "execution_count": 84,
   "metadata": {},
   "outputs": [
    {
     "data": {
      "text/plain": [
       "<tf.Tensor: shape=(3, 1), dtype=float64, numpy=\n",
       "array([[0.],\n",
       "       [0.],\n",
       "       [0.]])>"
      ]
     },
     "execution_count": 84,
     "metadata": {},
     "output_type": "execute_result"
    }
   ],
   "source": [
    "w, b = initializer(3)\n",
    "w"
   ]
  },
  {
   "cell_type": "code",
   "execution_count": 85,
   "metadata": {},
   "outputs": [
    {
     "data": {
      "text/plain": [
       "<tf.Tensor: shape=(1, 3), dtype=float64, numpy=array([[0., 0., 0.]])>"
      ]
     },
     "execution_count": 85,
     "metadata": {},
     "output_type": "execute_result"
    }
   ],
   "source": [
    "tf.transpose(w)"
   ]
  },
  {
   "cell_type": "markdown",
   "metadata": {},
   "source": [
    "## Calculate $z$ for all $x^{(i)}$:\n",
    "$$z^{(i)} = w^T x^{(i)} + b \\tag{1}$$"
   ]
  },
  {
   "cell_type": "code",
   "execution_count": 86,
   "metadata": {},
   "outputs": [],
   "source": [
    "def forward(W: tf.Tensor, b: tf.float64, X: tf.Tensor):\n",
    "    wT = tf.transpose(w)\n",
    "    Z = tf.tensordot(wT, X, axes=1) + b\n",
    "    return Z"
   ]
  },
  {
   "cell_type": "code",
   "execution_count": 87,
   "metadata": {},
   "outputs": [],
   "source": [
    "X = tf.Variable(\n",
    "    [2,3,4], dtype=tf.float64\n",
    ")\n",
    "Y = tf.Variable([1], dtype=tf.float64)"
   ]
  },
  {
   "cell_type": "code",
   "execution_count": 88,
   "metadata": {},
   "outputs": [
    {
     "data": {
      "text/plain": [
       "<tf.Tensor: shape=(1,), dtype=float64, numpy=array([0.])>"
      ]
     },
     "execution_count": 88,
     "metadata": {},
     "output_type": "execute_result"
    }
   ],
   "source": [
    "z = forward(w, b, X)\n",
    "z"
   ]
  },
  {
   "cell_type": "markdown",
   "metadata": {},
   "source": [
    "# Sigmoid Funtion\n",
    "compute $sigmoid(z) = \\frac{1}{1 + e^{-z}}$ for $z = w^T x + b$ to make predictions. Use np.exp() or tf.exp()."
   ]
  },
  {
   "cell_type": "code",
   "execution_count": 89,
   "metadata": {},
   "outputs": [],
   "source": [
    "def sigmoid(Z: tf.Tensor):\n",
    "    a = 1/(1 + tf.exp(-Z))\n",
    "    return a"
   ]
  },
  {
   "cell_type": "code",
   "execution_count": 90,
   "metadata": {},
   "outputs": [
    {
     "data": {
      "text/plain": [
       "<tf.Tensor: shape=(1,), dtype=float64, numpy=array([0.5])>"
      ]
     },
     "execution_count": 90,
     "metadata": {},
     "output_type": "execute_result"
    }
   ],
   "source": [
    "yhat = sigmoid(z)\n",
    "yhat"
   ]
  },
  {
   "cell_type": "markdown",
   "metadata": {},
   "source": [
    "## Calculate the Cost :\n",
    " $J = -\\frac{1}{m}\\sum_{i=1}^{m}(y^{(i)}\\log(yhat^{(i)})+(1-y^{(i)})\\log(1-yhat^{(i)}))$"
   ]
  },
  {
   "cell_type": "code",
   "execution_count": 91,
   "metadata": {},
   "outputs": [],
   "source": [
    "def compute_cost(Y: tf.Tensor, Yhat: tf.Tensor):\n",
    "    m = Yhat.shape[0]\n",
    "    loss = tf.reduce_sum((Y * tf.math.log(Yhat)) + ((1-Y) * tf.math.log(1-Yhat)))\n",
    "    c = (-1/m) * loss\n",
    "    return c\n"
   ]
  },
  {
   "cell_type": "code",
   "execution_count": 92,
   "metadata": {},
   "outputs": [
    {
     "data": {
      "text/plain": [
       "<tf.Tensor: shape=(), dtype=float64, numpy=0.6931471805599453>"
      ]
     },
     "execution_count": 92,
     "metadata": {},
     "output_type": "execute_result"
    }
   ],
   "source": [
    "compute_cost(Y, yhat)"
   ]
  },
  {
   "cell_type": "markdown",
   "metadata": {},
   "source": [
    "## Forward Propagation:\n",
    "- You get X\n",
    "- You compute $yhat = \\sigma(w^T X + b) $\n",
    "- You calculate the cost function: $J = -\\frac{1}{m}\\sum_{i=1}^{m}(y^{(i)}\\log(yhat^{(i)})+(1-y^{(i)})\\log(1-yhat^{(i)}))$"
   ]
  },
  {
   "cell_type": "code",
   "execution_count": 93,
   "metadata": {},
   "outputs": [],
   "source": [
    "W, b = initializer(2)\n",
    "def forward_prop(W: tf.Tensor, b:tf.Tensor, X: tf.Tensor, Y:tf.Tensor):\n",
    "    Z = forward(W, b, X)\n",
    "    Yhat = sigmoid(Z)\n",
    "    cost = compute_cost(Y, Yhat)\n",
    "    return Yhat, tf.squeeze(cost)"
   ]
  },
  {
   "cell_type": "code",
   "execution_count": 96,
   "metadata": {},
   "outputs": [
    {
     "data": {
      "text/plain": [
       "<tf.Tensor: shape=(5, 3), dtype=float64, numpy=\n",
       "array([[2., 7., 8.],\n",
       "       [3., 2., 8.],\n",
       "       [4., 3., 2.],\n",
       "       [5., 4., 4.],\n",
       "       [6., 8., 8.]])>"
      ]
     },
     "execution_count": 96,
     "metadata": {},
     "output_type": "execute_result"
    }
   ],
   "source": [
    "X = tf.Variable(\n",
    "    [\n",
    "        [2, 3, 4, 5, 6],\n",
    "        [7, 2, 3, 4, 8],\n",
    "        [8, 8, 2, 4, 8]\n",
    "    ], dtype=tf.float64\n",
    ")\n",
    "Y = tf.Variable([[1, 1, 0, 0, 1]], dtype=tf.float64)\n",
    "tf.transpose(X)"
   ]
  },
  {
   "cell_type": "code",
   "execution_count": 97,
   "metadata": {},
   "outputs": [
    {
     "data": {
      "text/plain": [
       "(<tf.Tensor: shape=(1, 5), dtype=float64, numpy=array([[0.5, 0.5, 0.5, 0.5, 0.5]])>,\n",
       " <tf.Tensor: shape=(), dtype=float64, numpy=3.4657359027997265>)"
      ]
     },
     "execution_count": 97,
     "metadata": {},
     "output_type": "execute_result"
    }
   ],
   "source": [
    "forward_prop(W, b, X, Y)"
   ]
  },
  {
   "cell_type": "markdown",
   "metadata": {},
   "source": [
    "## Back Propagation: \n",
    "\n",
    "- $$ \\frac{\\partial J}{\\partial w} = \\frac{1}{m}X(yhat-y)^T\\tag{7}$$\n",
    "- $$ \\frac{\\partial J}{\\partial b} = \\frac{1}{m} \\sum_{i=1}^m (yhat^{(i)}-y^{(i)})\\tag{8}$$"
   ]
  },
  {
   "cell_type": "code",
   "execution_count": null,
   "metadata": {},
   "outputs": [],
   "source": [
    "\n"
   ]
  },
  {
   "cell_type": "markdown",
   "metadata": {},
   "source": [
    "# Optimizer"
   ]
  },
  {
   "cell_type": "code",
   "execution_count": null,
   "metadata": {},
   "outputs": [],
   "source": [
    "\n"
   ]
  },
  {
   "cell_type": "markdown",
   "metadata": {},
   "source": [
    "# Model\n",
    "- Initialize $$ w,b $$\n",
    "- Forward Propagation:\n",
    "    - You get X\n",
    "    - You compute $yhat = \\sigma(w^T X + b) $\n",
    "    - You calculate the cost function: $J = -\\frac{1}{m}\\sum_{i=1}^{m}(y^{(i)}\\log(yhat^{(i)})+(1-y^{(i)})\\log(1-yhat^{(i)}))$\n",
    "- Back Propagation: \n",
    "    - $$ \\frac{\\partial J}{\\partial w} = \\frac{1}{m}X(yhat-y)^T\\tag{7}$$\n",
    "    - $$ \\frac{\\partial J}{\\partial b} = \\frac{1}{m} \\sum_{i=1}^m (yhat^{(i)}-y^{(i)})\\tag{8}$$\n",
    "- Update weights:\n",
    "    - $$ w = w - {\\alpha} * \\frac{\\partial J}{\\partial w} $$\n",
    "    - $$ b = b- {\\alpha}  * \\frac{\\partial J}{\\partial b} $$"
   ]
  },
  {
   "cell_type": "code",
   "execution_count": null,
   "metadata": {},
   "outputs": [],
   "source": []
  },
  {
   "cell_type": "markdown",
   "metadata": {},
   "source": [
    "# Test Model"
   ]
  },
  {
   "cell_type": "code",
   "execution_count": null,
   "metadata": {},
   "outputs": [],
   "source": []
  }
 ],
 "metadata": {
  "interpreter": {
   "hash": "2be5faf79681da6f2a61fdfdd5405d65d042280f7fba6178067603e3a2925119"
  },
  "kernelspec": {
   "display_name": "Python 3.10.1 64-bit",
   "language": "python",
   "name": "python3"
  },
  "language_info": {
   "codemirror_mode": {
    "name": "ipython",
    "version": 3
   },
   "file_extension": ".py",
   "mimetype": "text/x-python",
   "name": "python",
   "nbconvert_exporter": "python",
   "pygments_lexer": "ipython3",
   "version": "3.10.1"
  },
  "orig_nbformat": 4
 },
 "nbformat": 4,
 "nbformat_minor": 2
}
